{
  "nbformat": 4,
  "nbformat_minor": 0,
  "metadata": {
    "colab": {
      "name": "Calculadora de Ropa.ipynb",
      "provenance": [],
      "collapsed_sections": []
    },
    "kernelspec": {
      "name": "python3",
      "display_name": "Python 3"
    },
    "language_info": {
      "name": "python"
    }
  },
  "cells": [
    {
      "cell_type": "markdown",
      "metadata": {
        "id": "qWU7uJz76bQs"
      },
      "source": [
        "# **Tema: Análisis de Mercado de Ropa de Tallas Extra. Parte 4**"
      ]
    },
    {
      "cell_type": "markdown",
      "metadata": {
        "id": "W3kNbxVGjCbu"
      },
      "source": [
        "<table class=\"tfo-notebook-buttons\" align=\"left\">\n",
        "    <td>\n",
        "    <a target=\"_blank\" href=\"https://colab.research.google.com/drive/1ijQ4b2bzkBR8L0fxwIjlBBJ9l4N2nz7h?usp=sharing#scrollTo=yzuuTJStdvqz\"><img src=\"https://www.tensorflow.org/images/colab_logo_32px.png\" />Analisis:Mercado de Ropa Tallas Extra</a>\n",
        "  </td>\n",
        "   <td>\n",
        "    <a target=\"_blank\" href=\"https://colab.research.google.com/drive/1DqTnvllOYJosrBMAQBuCyC7cB28GCsar?usp=sharing\"><img src=\"https://www.tensorflow.org/images/colab_logo_32px.png\" />Clasificador de Ropa</a>\n",
        "  </td>\n",
        "  <td>\n",
        "    <a target=\"_blank\" href=\"https://github.com/Deltarios/analisis_ropa_bedu_4\"><img src=\"https://www.tensorflow.org/images/GitHub-Mark-32px.png\" />REPOSITORIO</a>\n",
        "  </td>\n",
        "</table>"
      ]
    },
    {
      "cell_type": "markdown",
      "metadata": {
        "id": "5CsOzPS5_LMs"
      },
      "source": [
        "# **Calculadora de tallas :**\n",
        "#Empleando un regresion logística multinomial.\n",
        "\n"
      ]
    },
    {
      "cell_type": "code",
      "metadata": {
        "id": "20H39DwdwD8N"
      },
      "source": [
        "from scipy import stats # scipy - scientific python, stats - estadística\n",
        "import pandas as pd\n",
        "import numpy as np\n",
        "import seaborn as sns\n",
        "import matplotlib.pyplot as plt\n",
        "import plotly.express as px\n",
        "from pylab import rcParams\n",
        "from sklearn.model_selection import train_test_split\n",
        "#import lightgbm as lgb\n",
        "%matplotlib inline\n",
        "from sklearn.cluster import KMeans\n",
        "from scipy.stats import skew, kurtosis\n",
        "import nltk\n",
        "from nltk.corpus import stopwords\n",
        "from nltk.util import ngrams\n",
        "from sklearn.linear_model import LogisticRegression"
      ],
      "execution_count": null,
      "outputs": []
    },
    {
      "cell_type": "code",
      "metadata": {
        "id": "ynMY7PvywHy8"
      },
      "source": [
        "data1 = pd.read_csv('https://raw.githubusercontent.com/MaasWaffen/Datasets/main/TALLAS_FINALES.csv')"
      ],
      "execution_count": null,
      "outputs": []
    },
    {
      "cell_type": "code",
      "metadata": {
        "colab": {
          "base_uri": "https://localhost:8080/",
          "height": 408
        },
        "id": "gatgpIeaz2v8",
        "outputId": "8b56cd01-ed79-4944-8d9d-fa43c08022be"
      },
      "source": [
        "data1"
      ],
      "execution_count": null,
      "outputs": [
        {
          "output_type": "execute_result",
          "data": {
            "text/html": [
              "<div>\n",
              "<style scoped>\n",
              "    .dataframe tbody tr th:only-of-type {\n",
              "        vertical-align: middle;\n",
              "    }\n",
              "\n",
              "    .dataframe tbody tr th {\n",
              "        vertical-align: top;\n",
              "    }\n",
              "\n",
              "    .dataframe thead th {\n",
              "        text-align: right;\n",
              "    }\n",
              "</style>\n",
              "<table border=\"1\" class=\"dataframe\">\n",
              "  <thead>\n",
              "    <tr style=\"text-align: right;\">\n",
              "      <th></th>\n",
              "      <th>Pecho</th>\n",
              "      <th>Cuello</th>\n",
              "      <th>Cintura</th>\n",
              "      <th>Longitud_delantera</th>\n",
              "      <th>Altura</th>\n",
              "      <th>Peso</th>\n",
              "      <th>Talla</th>\n",
              "      <th>SEXO</th>\n",
              "      <th>Cadera</th>\n",
              "    </tr>\n",
              "  </thead>\n",
              "  <tbody>\n",
              "    <tr>\n",
              "      <th>0</th>\n",
              "      <td>88.30</td>\n",
              "      <td>35.90</td>\n",
              "      <td>77.00</td>\n",
              "      <td>57.10</td>\n",
              "      <td>166.80</td>\n",
              "      <td>51.40</td>\n",
              "      <td>S</td>\n",
              "      <td>H</td>\n",
              "      <td>NaN</td>\n",
              "    </tr>\n",
              "    <tr>\n",
              "      <th>1</th>\n",
              "      <td>89.70</td>\n",
              "      <td>35.70</td>\n",
              "      <td>78.90</td>\n",
              "      <td>57.10</td>\n",
              "      <td>167.10</td>\n",
              "      <td>51.50</td>\n",
              "      <td>S</td>\n",
              "      <td>H</td>\n",
              "      <td>NaN</td>\n",
              "    </tr>\n",
              "    <tr>\n",
              "      <th>2</th>\n",
              "      <td>87.80</td>\n",
              "      <td>35.60</td>\n",
              "      <td>78.60</td>\n",
              "      <td>57.50</td>\n",
              "      <td>168.00</td>\n",
              "      <td>51.30</td>\n",
              "      <td>S</td>\n",
              "      <td>H</td>\n",
              "      <td>NaN</td>\n",
              "    </tr>\n",
              "    <tr>\n",
              "      <th>3</th>\n",
              "      <td>90.90</td>\n",
              "      <td>36.10</td>\n",
              "      <td>78.80</td>\n",
              "      <td>57.10</td>\n",
              "      <td>165.40</td>\n",
              "      <td>52.80</td>\n",
              "      <td>S</td>\n",
              "      <td>H</td>\n",
              "      <td>NaN</td>\n",
              "    </tr>\n",
              "    <tr>\n",
              "      <th>4</th>\n",
              "      <td>90.50</td>\n",
              "      <td>35.80</td>\n",
              "      <td>77.10</td>\n",
              "      <td>58.00</td>\n",
              "      <td>165.70</td>\n",
              "      <td>51.90</td>\n",
              "      <td>S</td>\n",
              "      <td>H</td>\n",
              "      <td>NaN</td>\n",
              "    </tr>\n",
              "    <tr>\n",
              "      <th>...</th>\n",
              "      <td>...</td>\n",
              "      <td>...</td>\n",
              "      <td>...</td>\n",
              "      <td>...</td>\n",
              "      <td>...</td>\n",
              "      <td>...</td>\n",
              "      <td>...</td>\n",
              "      <td>...</td>\n",
              "      <td>...</td>\n",
              "    </tr>\n",
              "    <tr>\n",
              "      <th>34995</th>\n",
              "      <td>125.77</td>\n",
              "      <td>44.62</td>\n",
              "      <td>109.21</td>\n",
              "      <td>65.09</td>\n",
              "      <td>175.08</td>\n",
              "      <td>97.13</td>\n",
              "      <td>2XL</td>\n",
              "      <td>M</td>\n",
              "      <td>129.03</td>\n",
              "    </tr>\n",
              "    <tr>\n",
              "      <th>34996</th>\n",
              "      <td>124.25</td>\n",
              "      <td>44.84</td>\n",
              "      <td>105.56</td>\n",
              "      <td>64.42</td>\n",
              "      <td>175.21</td>\n",
              "      <td>96.95</td>\n",
              "      <td>2XL</td>\n",
              "      <td>M</td>\n",
              "      <td>131.54</td>\n",
              "    </tr>\n",
              "    <tr>\n",
              "      <th>34997</th>\n",
              "      <td>122.26</td>\n",
              "      <td>44.80</td>\n",
              "      <td>100.24</td>\n",
              "      <td>63.23</td>\n",
              "      <td>175.90</td>\n",
              "      <td>97.53</td>\n",
              "      <td>2XL</td>\n",
              "      <td>M</td>\n",
              "      <td>130.75</td>\n",
              "    </tr>\n",
              "    <tr>\n",
              "      <th>34998</th>\n",
              "      <td>124.45</td>\n",
              "      <td>44.33</td>\n",
              "      <td>101.46</td>\n",
              "      <td>65.62</td>\n",
              "      <td>175.47</td>\n",
              "      <td>99.26</td>\n",
              "      <td>2XL</td>\n",
              "      <td>M</td>\n",
              "      <td>130.98</td>\n",
              "    </tr>\n",
              "    <tr>\n",
              "      <th>34999</th>\n",
              "      <td>125.56</td>\n",
              "      <td>44.03</td>\n",
              "      <td>106.26</td>\n",
              "      <td>64.94</td>\n",
              "      <td>175.67</td>\n",
              "      <td>97.21</td>\n",
              "      <td>2XL</td>\n",
              "      <td>M</td>\n",
              "      <td>132.68</td>\n",
              "    </tr>\n",
              "  </tbody>\n",
              "</table>\n",
              "<p>35000 rows × 9 columns</p>\n",
              "</div>"
            ],
            "text/plain": [
              "        Pecho  Cuello  Cintura  Longitud_delantera  ...   Peso  Talla SEXO  Cadera\n",
              "0       88.30   35.90    77.00               57.10  ...  51.40      S    H     NaN\n",
              "1       89.70   35.70    78.90               57.10  ...  51.50      S    H     NaN\n",
              "2       87.80   35.60    78.60               57.50  ...  51.30      S    H     NaN\n",
              "3       90.90   36.10    78.80               57.10  ...  52.80      S    H     NaN\n",
              "4       90.50   35.80    77.10               58.00  ...  51.90      S    H     NaN\n",
              "...       ...     ...      ...                 ...  ...    ...    ...  ...     ...\n",
              "34995  125.77   44.62   109.21               65.09  ...  97.13    2XL    M  129.03\n",
              "34996  124.25   44.84   105.56               64.42  ...  96.95    2XL    M  131.54\n",
              "34997  122.26   44.80   100.24               63.23  ...  97.53    2XL    M  130.75\n",
              "34998  124.45   44.33   101.46               65.62  ...  99.26    2XL    M  130.98\n",
              "34999  125.56   44.03   106.26               64.94  ...  97.21    2XL    M  132.68\n",
              "\n",
              "[35000 rows x 9 columns]"
            ]
          },
          "metadata": {
            "tags": []
          },
          "execution_count": 27
        }
      ]
    },
    {
      "cell_type": "markdown",
      "metadata": {
        "id": "s10dC51YQ-Zf"
      },
      "source": [
        "La clasificación de tallas se encuenta en formato de cadena, por lo que necesitamos cambiar las categorías a valores numéricos:\n",
        "\n",
        "- 'S' = 0\n",
        "- 'M' = 1\n",
        "- 'L' = 2\n",
        "- 'XL' = 3\n",
        "- 'XXL' = 4\n",
        "- '1X' = 5\n",
        "- '2X' = 6\n",
        "- '1XL' = 7\n",
        "- '2XL' = 8"
      ]
    },
    {
      "cell_type": "code",
      "metadata": {
        "colab": {
          "base_uri": "https://localhost:8080/"
        },
        "id": "gL70Hv313VtM",
        "outputId": "097f63e0-852b-447e-d40c-d1d01e22a36d"
      },
      "source": [
        "for cn in range(len(data1['Talla'])):\n",
        "  if data1['Talla'].iloc[cn] == 'S':\n",
        "    data1['Talla'].iloc[cn] = 0\n",
        "  elif data1['Talla'].iloc[cn] == 'M':\n",
        "    data1['Talla'].iloc[cn] = 1\n",
        "  elif data1['Talla'].iloc[cn] == 'L':\n",
        "    data1['Talla'].iloc[cn] = 2\n",
        "  elif data1['Talla'].iloc[cn] == 'XL':\n",
        "    data1['Talla'].iloc[cn] = 3\n",
        "  elif data1['Talla'].iloc[cn] == 'XXL':\n",
        "    data1['Talla'].iloc[cn] = 4\n",
        "  elif data1['Talla'].iloc[cn] == '1X':\n",
        "    data1['Talla'].iloc[cn] = 5\n",
        "  elif data1['Talla'].iloc[cn] == '2X':\n",
        "    data1['Talla'].iloc[cn] = 6\n",
        "  elif data1['Talla'].iloc[cn] == '1XL':\n",
        "    data1['Talla'].iloc[cn] = 7\n",
        "  else:\n",
        "    data1['Talla'].iloc[cn] = 8\n"
      ],
      "execution_count": null,
      "outputs": [
        {
          "output_type": "stream",
          "text": [
            "/usr/local/lib/python3.7/dist-packages/pandas/core/indexing.py:670: SettingWithCopyWarning:\n",
            "\n",
            "\n",
            "A value is trying to be set on a copy of a slice from a DataFrame\n",
            "\n",
            "See the caveats in the documentation: https://pandas.pydata.org/pandas-docs/stable/user_guide/indexing.html#returning-a-view-versus-a-copy\n",
            "\n"
          ],
          "name": "stderr"
        }
      ]
    },
    {
      "cell_type": "code",
      "metadata": {
        "id": "lyciZmQlR6sK"
      },
      "source": [
        "# Creamos dos modelos porque necesitamos hacer una calculadora tanto para hombres como para mujeres.\n",
        "dat_hom = data1[data1['SEXO'] == 'H']\n",
        "#dat_hom.drop(['Cadera'], axis=1) # Esta línea solo elimina la columna de la variables cadera de los hombres ya que solo contienen NaN#.\n",
        "dat_muj = data1[data1['SEXO'] == 'M']"
      ],
      "execution_count": null,
      "outputs": []
    },
    {
      "cell_type": "code",
      "metadata": {
        "colab": {
          "base_uri": "https://localhost:8080/",
          "height": 703
        },
        "id": "E8h5BbuVV22j",
        "outputId": "0acc8ae6-cda0-4a7a-e495-83dc583c9a5d"
      },
      "source": [
        "plt.figure(figsize=(10, 10))\n",
        "ax = sns.heatmap(dat_hom.corr(), vmin=-1, vmax=1, annot=True, cmap=\"bwr\", linewidths=.5);  sns.set_style('whitegrid');\n",
        "plt.title('Matríz de correlación hombres',fontsize=27, ha=\"center\", color='red');"
      ],
      "execution_count": null,
      "outputs": [
        {
          "output_type": "display_data",
          "data": {
            "image/png": "[encoded data removed]",
            "text/plain": [
              "<Figure size 720x720 with 2 Axes>"
            ]
          },
          "metadata": {
            "tags": [],
            "needs_background": "light"
          }
        }
      ]
    },
    {
      "cell_type": "code",
      "metadata": {
        "colab": {
          "base_uri": "https://localhost:8080/",
          "height": 706
        },
        "id": "yRcHm4u2V2jV",
        "outputId": "bdc90452-70e2-419b-87bb-402ca99bcf11"
      },
      "source": [
        "plt.figure(figsize=(10, 10))\n",
        "ax = sns.heatmap(dat_muj.corr(), vmin=-1, vmax=1, annot=True, cmap=\"bwr\", linewidths=.5);  sns.set_style('whitegrid');\n",
        "plt.title('Matríz de correlación mujeres',fontsize=27, ha=\"center\", color='red');"
      ],
      "execution_count": null,
      "outputs": [
        {
          "output_type": "display_data",
          "data": {
            "image/png": "[encoded data removed]",
            "text/plain": [
              "<Figure size 720x720 with 2 Axes>"
            ]
          },
          "metadata": {
            "tags": []
          }
        }
      ]
    },
    {
      "cell_type": "code",
      "metadata": {
        "id": "dezGm6_H0bIf"
      },
      "source": [
        "# Creamos nuestros datos de prueba y nuestros datos de entrenamiento para las tallas de cada sexo.\n",
        "y1 = dat_hom.Talla\n",
        "y1 = y1.astype('int')\n",
        "X1 = dat_hom.drop(['Talla','SEXO','Cadera'], axis=1)\n",
        "\n",
        "y2 = dat_muj.Talla\n",
        "y2 = y2.astype('int')\n",
        "X2 = dat_muj.drop(['Talla','SEXO'], axis=1)"
      ],
      "execution_count": null,
      "outputs": []
    },
    {
      "cell_type": "code",
      "metadata": {
        "id": "fwzKdLUcTdPx"
      },
      "source": [
        "# Hacer partición de training y tetsing para ambos dataframes\n",
        "\n",
        "# Para hombres\n",
        "X_train1, X_test1, y_train1, y_test1 = train_test_split(X1, y1, train_size=0.8, test_size=0.2,\n",
        "                                                                random_state=0)\n",
        "#Para mujeres\n",
        "X_train2, X_test2, y_train2, y_test2 = train_test_split(X2, y2, train_size=0.8, test_size=0.2,\n",
        "                                                                random_state=0)"
      ],
      "execution_count": null,
      "outputs": []
    },
    {
      "cell_type": "code",
      "metadata": {
        "id": "chNxl2hT0zIm"
      },
      "source": [
        "# Creamos los modelos de regresión logistica multinomial.\n",
        "\n",
        "lr1 = LogisticRegression(multi_class=\"multinomial\",solver =\"newton-cg\",max_iter= 300).fit(X_train1,y_train1)\n",
        "lr2 = LogisticRegression(multi_class=\"multinomial\",solver =\"newton-cg\",max_iter= 300).fit(X_train2,y_train2)"
      ],
      "execution_count": null,
      "outputs": []
    },
    {
      "cell_type": "code",
      "metadata": {
        "id": "K3BuOQJX4dJj"
      },
      "source": [
        "preds1 = lr1.predict(X_test1)\n",
        "preds2 = lr2.predict(X_test2)"
      ],
      "execution_count": null,
      "outputs": []
    },
    {
      "cell_type": "code",
      "metadata": {
        "colab": {
          "base_uri": "https://localhost:8080/"
        },
        "id": "AM_PCkw28nPj",
        "outputId": "f9a276ea-f241-4085-8bd7-fc5e0d0e58c9"
      },
      "source": [
        "lr1.score(X1,y1)"
      ],
      "execution_count": null,
      "outputs": [
        {
          "output_type": "execute_result",
          "data": {
            "text/plain": [
              "1.0"
            ]
          },
          "metadata": {
            "tags": []
          },
          "execution_count": 36
        }
      ]
    },
    {
      "cell_type": "code",
      "metadata": {
        "colab": {
          "base_uri": "https://localhost:8080/"
        },
        "id": "ApKpbiXoO2-9",
        "outputId": "7f739e86-d94a-42bc-ecc1-14bfac5f3f96"
      },
      "source": [
        "lr2.score(X2,y2)"
      ],
      "execution_count": null,
      "outputs": [
        {
          "output_type": "execute_result",
          "data": {
            "text/plain": [
              "1.0"
            ]
          },
          "metadata": {
            "tags": []
          },
          "execution_count": 37
        }
      ]
    },
    {
      "cell_type": "code",
      "metadata": {
        "id": "DMFMwGamWePr"
      },
      "source": [
        "# Revisamos la comparación de los datos.\n",
        "final_hom = X_test1.copy()\n",
        "final_muj = X_test2.copy()\n",
        "final_hom['Talla calculada'] = preds1\n",
        "final_hom['Dato original sin predecir'] = y_test1\n",
        "final_muj['Talla calculada'] = preds2\n",
        "final_muj['Dato original sin predecir'] = y_test2"
      ],
      "execution_count": null,
      "outputs": []
    },
    {
      "cell_type": "code",
      "metadata": {
        "id": "mo3dtKvOZJAK"
      },
      "source": [
        "preds1 = lr1.predict(X_test1)\n",
        "preds2 = lr2.predict(X_test2)"
      ],
      "execution_count": null,
      "outputs": []
    },
    {
      "cell_type": "code",
      "metadata": {
        "id": "MEEfCcUCbF5U"
      },
      "source": [
        "calculo_talla_hom = pd.DataFrame({'Pecho': [90],'Cuello':[35], 'Longitud_delantera': [50], 'Altura': [167.0], 'Peso': [55]})\n"
      ],
      "execution_count": null,
      "outputs": []
    },
    {
      "cell_type": "code",
      "metadata": {
        "colab": {
          "base_uri": "https://localhost:8080/",
          "height": 78
        },
        "id": "dKJnWBvR4gCM",
        "outputId": "f67c76fd-2a56-48b1-cc52-ae68f33fd918"
      },
      "source": [
        "calculo_talla_hom"
      ],
      "execution_count": null,
      "outputs": [
        {
          "output_type": "execute_result",
          "data": {
            "text/html": [
              "<div>\n",
              "<style scoped>\n",
              "    .dataframe tbody tr th:only-of-type {\n",
              "        vertical-align: middle;\n",
              "    }\n",
              "\n",
              "    .dataframe tbody tr th {\n",
              "        vertical-align: top;\n",
              "    }\n",
              "\n",
              "    .dataframe thead th {\n",
              "        text-align: right;\n",
              "    }\n",
              "</style>\n",
              "<table border=\"1\" class=\"dataframe\">\n",
              "  <thead>\n",
              "    <tr style=\"text-align: right;\">\n",
              "      <th></th>\n",
              "      <th>Pecho</th>\n",
              "      <th>Cuello</th>\n",
              "      <th>Longitud_delantera</th>\n",
              "      <th>Altura</th>\n",
              "      <th>Peso</th>\n",
              "    </tr>\n",
              "  </thead>\n",
              "  <tbody>\n",
              "    <tr>\n",
              "      <th>0</th>\n",
              "      <td>90</td>\n",
              "      <td>35</td>\n",
              "      <td>50</td>\n",
              "      <td>167.0</td>\n",
              "      <td>55</td>\n",
              "    </tr>\n",
              "  </tbody>\n",
              "</table>\n",
              "</div>"
            ],
            "text/plain": [
              "   Pecho  Cuello  Longitud_delantera  Altura  Peso\n",
              "0     90      35                  50   167.0    55"
            ]
          },
          "metadata": {
            "tags": []
          },
          "execution_count": 41
        }
      ]
    },
    {
      "cell_type": "markdown",
      "metadata": {
        "id": "kqX9LpZ5fLJB"
      },
      "source": [
        "# Aquí debes escribir tus medidas de tu cuerpo para calcular tu talla, recuerda que las medidas están definidas en centímetros [cm]"
      ]
    },
    {
      "cell_type": "code",
      "metadata": {
        "colab": {
          "base_uri": "https://localhost:8080/"
        },
        "id": "yzuuTJStdvqz",
        "outputId": "61605984-8590-4d22-f796-f919cba270c3"
      },
      "source": [
        "# Para calcular la talla de un hombre.\n",
        "Tamaño_pecho = 150\n",
        "Tamaño_cuello = 52\n",
        "Tamaño_cintura = 132\n",
        "Longitud_delantera_torso = 70\n",
        "Altura_persona = 180\n",
        "Peso = 90\n",
        "\n",
        "calculo_talla_hom = pd.DataFrame({'Pecho':[90],'Cuello':[35],'Cintura':[Tamaño_cintura],'Longitud_delantera':[50],'Altura':[167],'Peso':[55]})\n",
        "talla_h = lr1.predict(calculo_talla_hom)\n",
        "\n",
        "if talla_h[0] == 0:\n",
        "  talla_h_cam = 'S'\n",
        "elif talla_h[0] == 1:\n",
        "  talla_h_cam = 'M'\n",
        "elif talla_h[0] == 2:\n",
        "  talla_h_cam = 'L'\n",
        "elif talla_h[0] == 3:\n",
        "  talla_h_cam = 'XL'\n",
        "elif talla_h[0] == 4:\n",
        "  talla_h_cam = 'XXL'\n",
        "elif talla_h[0] == 5:\n",
        "  talla_h_cam = '1X'\n",
        "elif talla_h[0] == 6:\n",
        "  talla_h_cam = '2X'\n",
        "elif talla_h[0] == 7:\n",
        "  talla_h_cam = '1XL'\n",
        "elif talla_h[0] == 8:\n",
        "  talla_h_cam = '2XL'\n",
        "print('Tu talla es ',talla_h_cam)"
      ],
      "execution_count": null,
      "outputs": [
        {
          "output_type": "stream",
          "text": [
            "Tu talla es  L\n"
          ],
          "name": "stdout"
        }
      ]
    },
    {
      "cell_type": "code",
      "metadata": {
        "id": "FrgsqGvHe0O2",
        "colab": {
          "base_uri": "https://localhost:8080/"
        },
        "outputId": "0b030834-91ec-4d78-898e-6649bd8a705d"
      },
      "source": [
        "# Para calcular la talla de una mujer.\n",
        "Tamaño_pecho = 87\n",
        "Tamaño_cuello = 35\n",
        "Tamaño_cintura = 65\n",
        "Tamaño_cadera = 79\n",
        "Longitud_delantera_torso = 50\n",
        "Altura_persona = 162\n",
        "Peso = 53\n",
        "\n",
        "calculo_talla_muj = pd.DataFrame({'Pecho':[87],'Cuello':[35],'Cintura':[Tamaño_cintura],'Longitud_delantera':[50],'Altura':[162],'Peso':[53],'Cadera':[Tamaño_cadera]})\n",
        "talla_m = lr2.predict(calculo_talla_muj)\n",
        "\n",
        "if talla_m[0] == 0:\n",
        "  talla_m_cam = 'S'\n",
        "elif talla_m[0] == 1:\n",
        "  talla_m_cam = 'M'\n",
        "elif talla_m[0] == 2:\n",
        "  talla_m_cam = 'L'\n",
        "elif talla_m[0] == 3:\n",
        "  talla_m_cam = 'XL'\n",
        "elif talla_m[0] == 4:\n",
        "  talla_m_cam = 'XXL'\n",
        "elif talla_m[0] == 5:\n",
        "  talla_m_cam = '1X'\n",
        "elif talla_m[0] == 6:\n",
        "  talla_m_cam = '2X'\n",
        "elif talla_m[0] == 7:\n",
        "  talla_m_cam = '1XL'\n",
        "elif talla_m[0] == 8:\n",
        "  talla_m_cam = '2XL'\n",
        "print('Tu talla es ',talla_m_cam)"
      ],
      "execution_count": null,
      "outputs": [
        {
          "output_type": "stream",
          "text": [
            "Tu talla es  S\n"
          ],
          "name": "stdout"
        }
      ]
    }
  ]
}